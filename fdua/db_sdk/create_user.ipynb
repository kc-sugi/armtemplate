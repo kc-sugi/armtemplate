{
 "cells": [
  {
   "cell_type": "code",
   "execution_count": null,
   "metadata": {
    "application/vnd.databricks.v1+cell": {
     "cellMetadata": {
      "byteLimit": 2048000,
      "rowLimit": 10000
     },
     "inputWidgets": {},
     "nuid": "fa69b362-02bb-4940-ac88-c49da84a4e70",
     "showTitle": false,
     "title": ""
    }
   },
   "outputs": [
    {
     "name": "stdout",
     "output_type": "stream",
     "text": [
      "0.18.0\n"
     ]
    }
   ],
   "source": [
    "import databricks.sdk\n",
    "print(databricks.sdk.version.__version__)\n",
    "# 最新版(0.18)でなければ下でpipを実行する"
   ]
  },
  {
   "cell_type": "code",
   "execution_count": null,
   "metadata": {
    "application/vnd.databricks.v1+cell": {
     "cellMetadata": {
      "byteLimit": 2048000,
      "rowLimit": 10000
     },
     "inputWidgets": {},
     "nuid": "81810cda-9e72-4726-826e-c0d29ecb66cd",
     "showTitle": false,
     "title": ""
    }
   },
   "outputs": [],
   "source": [
    "%pip install --upgrade databricks-sdk"
   ]
  },
  {
   "cell_type": "code",
   "execution_count": null,
   "metadata": {
    "application/vnd.databricks.v1+cell": {
     "cellMetadata": {
      "byteLimit": 2048000,
      "rowLimit": 10000
     },
     "inputWidgets": {},
     "nuid": "5864df96-b58c-47ae-861f-79865aeaa6c4",
     "showTitle": false,
     "title": ""
    }
   },
   "outputs": [],
   "source": [
    "dbutils.library.restartPython()"
   ]
  },
  {
   "cell_type": "code",
   "execution_count": null,
   "metadata": {
    "application/vnd.databricks.v1+cell": {
     "cellMetadata": {
      "byteLimit": 2048000,
      "rowLimit": 10000
     },
     "inputWidgets": {},
     "nuid": "4040db89-8d99-418d-b28c-acd9711253bd",
     "showTitle": false,
     "title": ""
    }
   },
   "outputs": [],
   "source": [
    "import os, time, pprint, csv\n",
    "from databricks.sdk.service import iam"
   ]
  },
  {
   "cell_type": "code",
   "execution_count": null,
   "metadata": {
    "application/vnd.databricks.v1+cell": {
     "cellMetadata": {
      "byteLimit": 2048000,
      "rowLimit": 10000
     },
     "inputWidgets": {},
     "nuid": "222dacc6-9055-4225-b688-94c3d28d5d47",
     "showTitle": false,
     "title": ""
    }
   },
   "outputs": [],
   "source": [
    "# ワークスペース用クライアントを作成、クラスター再起動のたびに実行してください\n",
    "\n",
    "from databricks.sdk import WorkspaceClient\n",
    "\n",
    "w = WorkspaceClient(host=\"https://adb-6577950137824096.16.azuredatabricks.net\", token=\"\")\n"
   ]
  },
  {
   "cell_type": "code",
   "execution_count": null,
   "metadata": {
    "application/vnd.databricks.v1+cell": {
     "cellMetadata": {
      "byteLimit": 2048000,
      "rowLimit": 10000
     },
     "inputWidgets": {},
     "nuid": "66cb6e4f-0728-453b-9137-6933c736211d",
     "showTitle": false,
     "title": ""
    }
   },
   "outputs": [],
   "source": [
    "from databricks.sdk import AccountClient\n",
    "\n",
    "a = AccountClient(\n",
    "  host                = \"https://accounts.azuredatabricks.net\",\n",
    "  account_id          = \"26b95558-3fb8-477d-a1f8-8603c2c64d5c\",\n",
    "  azure_tenant_id     = \"40e7b67c-11c2-470f-bb62-0ff7a5accad5\",\n",
    "  azure_client_id     = \"342aa662-89ee-4616-ba9d-360ef93a87d9\",\n",
    "  azure_client_secret = \"\",\n",
    "  auth_type           = \"azure-client-secret\"\n",
    ")\n"
   ]
  },
  {
   "cell_type": "code",
   "execution_count": null,
   "metadata": {
    "application/vnd.databricks.v1+cell": {
     "cellMetadata": {
      "byteLimit": 2048000,
      "rowLimit": 10000
     },
     "inputWidgets": {},
     "nuid": "e709c82c-23c2-4f34-a694-8f9725175b1d",
     "showTitle": false,
     "title": ""
    }
   },
   "outputs": [],
   "source": [
    "# ここのワークスペースのID\n",
    "WORKSPACE_ID = 6577950137824096"
   ]
  },
  {
   "cell_type": "code",
   "execution_count": null,
   "metadata": {
    "application/vnd.databricks.v1+cell": {
     "cellMetadata": {
      "byteLimit": 2048000,
      "rowLimit": 10000
     },
     "inputWidgets": {},
     "nuid": "2b7cb924-4338-422c-a754-535fb7526637",
     "showTitle": false,
     "title": ""
    }
   },
   "outputs": [],
   "source": [
    "def create_user(user_name,display_name):\n",
    "    u = a.users.create(user_name=user_name,display_name=display_name)\n",
    "    a.workspace_assignment.update(permissions = [iam.WorkspacePermission.USER], workspace_id=WORKSPACE_ID, principal_id=u.id)\n",
    "    return u"
   ]
  },
  {
   "cell_type": "code",
   "execution_count": null,
   "metadata": {
    "application/vnd.databricks.v1+cell": {
     "cellMetadata": {
      "byteLimit": 2048000,
      "rowLimit": 10000
     },
     "inputWidgets": {},
     "nuid": "5ab6a2d7-95fd-4725-8437-f5a6297db252",
     "showTitle": false,
     "title": ""
    }
   },
   "outputs": [],
   "source": [
    "# ユーザーリストの読み込み\n",
    "user_file = 'userlist.csv'\n",
    "\n",
    "users = []\n",
    "with open(user_file, mode='r') as f:\n",
    "    reader = csv.DictReader(f)\n",
    "    for row in reader:\n",
    "        print(row['氏名'],row['アカウント名'])\n",
    "        users.append(row)"
   ]
  },
  {
   "cell_type": "code",
   "execution_count": null,
   "metadata": {
    "application/vnd.databricks.v1+cell": {
     "cellMetadata": {
      "byteLimit": 2048000,
      "rowLimit": 10000
     },
     "inputWidgets": {},
     "nuid": "271afe52-cab6-4911-9844-db81e8e4f8bd",
     "showTitle": false,
     "title": ""
    }
   },
   "outputs": [],
   "source": [
    "# リストを基にしてのユーザー作成\n",
    "for user in users:\n",
    "    u = create_user(user_name=user['アカウント名'],display_name=user['氏名'])"
   ]
  },
  {
   "cell_type": "code",
   "execution_count": null,
   "metadata": {
    "application/vnd.databricks.v1+cell": {
     "cellMetadata": {
      "byteLimit": 2048000,
      "rowLimit": 10000
     },
     "inputWidgets": {},
     "nuid": "e3598366-b7a5-461e-bd52-45daa7cf38fb",
     "showTitle": false,
     "title": ""
    }
   },
   "outputs": [],
   "source": [
    "# カタログスキーマの自動作成と権限付与\n",
    "\n",
    "# 処理するIDの始点と終点を指定\n",
    "startID = 1032\n",
    "endID = 1040\n",
    "\n",
    "for i in range(startID, endID+1):\n",
    "    usrname = f'adbuser{i:04}'\n",
    "    w.schemas.create(name=usrname,catalog_name='ws_fduacmp_001')\n",
    "    spark.sql(f'GRANT ALL PRIVILEGES ON SCHEMA ws_fduacmp_001.{usrname} TO `{usrname}@fdua2024kc.onmicrosoft.com`')"
   ]
  }
 ],
 "metadata": {
  "application/vnd.databricks.v1+notebook": {
   "dashboards": [],
   "language": "python",
   "notebookMetadata": {
    "pythonIndentUnit": 4
   },
   "notebookName": "create_user",
   "widgets": {}
  },
  "language_info": {
   "name": "python"
  }
 },
 "nbformat": 4,
 "nbformat_minor": 0
}
